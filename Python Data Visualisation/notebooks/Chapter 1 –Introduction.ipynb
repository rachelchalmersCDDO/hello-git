{
 "cells": [
  {
   "cell_type": "markdown",
   "metadata": {},
   "source": [
    "<a id='menu'></a>\n",
    "<hr style=\"width:100% ; height:2px ; border-width:0 ; color:gray ; background-color:#003d59 ; opacity:1\">\n",
    "\n",
    " ![logos](../images/la_dsc_logo.jpg)\n",
    " \n",
    " \n",
    "<hr style=\"width:100% ; height:2px ; border-width:0 ; color:gray ; background-color:#003d59 ; opacity:1\">"
   ]
  },
  {
   "cell_type": "markdown",
   "metadata": {},
   "source": [
    "# Data Visualisation in Python\n",
    "\n",
    "## Chapter 1 – Introduction\n",
    "### Hannah Hodge Waller\n",
    "\n",
    "<hr style=\"width:100%;height:4px;border-width:0;color:gray;background-color:#003d59; opacity:0.25\"> \n",
    "Follow along with the code by running cells as you encounter them\n",
    "\n",
    "<hr style=\"width:100%;height:4px;border-width:0;color:gray;background-color:#003d59; opacity:0.25\"> \n",
    "*Chapter Overview*\n",
    "1. [Introduction](#intro)\n",
    "<br><br>\n",
    "2. [Packages and Data](#packages)\n",
    "<br><br>\n",
    "3.\t[Processing Data](#processing)\n",
    "<br><br>\n",
    "4.\t[Visualisation Guidelines](#guidelines)\n"
   ]
  },
  {
   "cell_type": "markdown",
   "metadata": {},
   "source": [
    "<hr style=\"width:100%;height:4px;border-width:0;color:gray;background-color:#003d59; opacity:1\"> "
   ]
  },
  {
   "cell_type": "markdown",
   "metadata": {},
   "source": [
    "<a id='intro'></a>\n",
    "# 1. Introduction\n",
    "\n",
    "This course aims to give an overview of data visualisation and plotting techniques in Python. Data visualisation can be described as both an art and a science, and while this course is not designed to act as a fully comprehensive guide the authors hope that it will give you an insight into the possibilities and best practice around the subject.\n",
    "\n",
    "It is important to note that while this course aims to follow both ONS and GSS visualisation guidelines, it does not replace the current procedures in place for publishing data.\n",
    "\n",
    "\n",
    "If you are a member of another government department you should also familiarise yourself with your department's guidelines.\n",
    "\n",
    "This guide is written for running `matplotlib` inside of Jupyter Notebooks, and can easily be adapted for use in Spyder. "
   ]
  },
  {
   "cell_type": "markdown",
   "metadata": {},
   "source": [
    "[return to menu](#menu)"
   ]
  },
  {
   "cell_type": "markdown",
   "metadata": {},
   "source": [
    "<hr style=\"width:100%;height:4px;border-width:0;color:gray;background-color:#003d59; opacity:1\"> "
   ]
  },
  {
   "cell_type": "markdown",
   "metadata": {},
   "source": [
    "<a id='packages'></a>\n",
    "# 2. Packages and Data"
   ]
  },
  {
   "cell_type": "markdown",
   "metadata": {},
   "source": [
    "## Packages\n",
    "\n",
    "The main packages we will be using for this course are:\n",
    "\n",
    "* Numpy – Version 1.18.1 *\n",
    "\n",
    "Numpy gives us access to arrays and matrices; and additional mathematical functions we may need.\n",
    "\n",
    "* Pandas – Version 0.20.1 *\n",
    "\n",
    "Pandas gives us the functionality to work with DataFrames, as well as to easily manipulate or transform our data.\n",
    "\n",
    "* Matplotlib – Version 2.0.2 *\n",
    "\n",
    "Matplotlib is a plotting library for Python. Initially released in 2003, it comes with the module Pyplot – which provides a MATLAB – like interface. \n",
    "\n",
    "We will often be importing the `matplotlib.pyplot` variant.\n",
    "\n",
    "* Seaborn - Version 0.7.1\n",
    "\n",
    "Seaborn is an enhancement to Matplotlib. It gives us several enhancements to Matplotlib that we'll explore through the course.\n",
    "\n",
    "Run the cells below to load the packages; and use the `.__version__` attribute to check your version."
   ]
  },
  {
   "cell_type": "code",
   "execution_count": null,
   "metadata": {
    "collapsed": true
   },
   "outputs": [],
   "source": [
    "# Load the packages\n",
    "\n",
    "import numpy as np\n",
    "\n",
    "import pandas as pd\n",
    "\n",
    "import matplotlib\n",
    "\n",
    "import seaborn as sns"
   ]
  },
  {
   "cell_type": "markdown",
   "metadata": {},
   "source": [
    "Note - Some users have had errors when importing Seaborn. This was an error with the `np.nosetester` module. This was solved by upgrading the SciPy pakage. To do this use the Anaconda Prompt and enter:\n",
    "\n",
    "`pip install --upgrade scipy`\n",
    "\n",
    "N.B - You may need to take additional steps to download or update packages on a networked government computer. \n",
    "\n",
    "ONS staff using networked device you will need to ensure you have your computer set up to download packages using Artifactory. Please see [Yammer](https://www.yammer.com/ons.gov.uk/#/Threads/show?threadId=57654244122624) for help.\n",
    "\n",
    "Staff from other departments should follow their own internal guidance.\n"
   ]
  },
  {
   "cell_type": "code",
   "execution_count": null,
   "metadata": {
    "collapsed": true
   },
   "outputs": [],
   "source": [
    "# Check your versions\n",
    "\n",
    "print(\"Numpy Version: \", np.__version__ )\n",
    "print(\"Pandas Version: \", pd.__version__ )\n",
    "print(\"Matplotlib Version: \", matplotlib.__version__ )\n",
    "print(\"Seaborn Version: \", sns.__version__ )"
   ]
  },
  {
   "cell_type": "markdown",
   "metadata": {},
   "source": [
    "You may have different versions of these packages; if code causes errors we advise you to look in the help functions for your specific version. Typically this will be a change in the parameter name\n",
    "\n",
    "Different versions are often forwards and backwards compatible, but small changes might be required.\n",
    "\n",
    "While it is impossible to check every package version, this course has also been checked with the following versions:\n",
    "\n",
    "* Numpy Version:  1.19.4\n",
    "* Pandas Version:  1.1.3\n",
    "* Matplotlib Version:  3.3.3\n",
    "* Seaborn Version:  0.11.0"
   ]
  },
  {
   "cell_type": "markdown",
   "metadata": {},
   "source": [
    "<hr style=\"width:75%;height:4px;border-width:0;color:gray;background-color:#003d59; opacity:0.75\"> \n",
    "\n",
    "## Data\n",
    "\n",
    "\n",
    "In this course we’ll be using a variety of data. This is stored in the “data” folder.\n",
    "\n",
    "Gapminder contains data from a variety of years for different countries relating to several elements:\n",
    "\n",
    "* life_exp – life expectancy at birth in years.\n",
    "\n",
    "* pop – population.\n",
    "\n",
    "* gdp_per_cap – gross domestic product per capita in “international dollars” – a hypothetical unit of currency, equivalent to the power parity of the US dollar in 2005, in this case.\n",
    "\n",
    "* infant_mortality - Number of deaths per 1,000 in children under 1 year of age.\n",
    "\n",
    "* fertility – number of children per woman.\n",
    "\n",
    "We will use the `pd.read_csv()` to read in our data."
   ]
  },
  {
   "cell_type": "code",
   "execution_count": 3,
   "metadata": {},
   "outputs": [
    {
     "data": {
      "text/html": [
       "<div>\n",
       "<style>\n",
       "    .dataframe thead tr:only-child th {\n",
       "        text-align: right;\n",
       "    }\n",
       "\n",
       "    .dataframe thead th {\n",
       "        text-align: left;\n",
       "    }\n",
       "\n",
       "    .dataframe tbody tr th {\n",
       "        vertical-align: top;\n",
       "    }\n",
       "</style>\n",
       "<table border=\"1\" class=\"dataframe\">\n",
       "  <thead>\n",
       "    <tr style=\"text-align: right;\">\n",
       "      <th></th>\n",
       "      <th>country</th>\n",
       "      <th>continent</th>\n",
       "      <th>year</th>\n",
       "      <th>life_exp</th>\n",
       "      <th>pop</th>\n",
       "      <th>gdp_per_cap</th>\n",
       "      <th>infant_mortality</th>\n",
       "      <th>fertility</th>\n",
       "    </tr>\n",
       "  </thead>\n",
       "  <tbody>\n",
       "    <tr>\n",
       "      <th>0</th>\n",
       "      <td>Afghanistan</td>\n",
       "      <td>Asia</td>\n",
       "      <td>1952</td>\n",
       "      <td>28.801</td>\n",
       "      <td>8425333.0</td>\n",
       "      <td>779.445314</td>\n",
       "      <td>NaN</td>\n",
       "      <td>NaN</td>\n",
       "    </tr>\n",
       "    <tr>\n",
       "      <th>1</th>\n",
       "      <td>Afghanistan</td>\n",
       "      <td>Asia</td>\n",
       "      <td>1957</td>\n",
       "      <td>30.332</td>\n",
       "      <td>9240934.0</td>\n",
       "      <td>820.853030</td>\n",
       "      <td>NaN</td>\n",
       "      <td>NaN</td>\n",
       "    </tr>\n",
       "    <tr>\n",
       "      <th>2</th>\n",
       "      <td>Afghanistan</td>\n",
       "      <td>Asia</td>\n",
       "      <td>1962</td>\n",
       "      <td>31.997</td>\n",
       "      <td>10267083.0</td>\n",
       "      <td>853.100710</td>\n",
       "      <td>NaN</td>\n",
       "      <td>NaN</td>\n",
       "    </tr>\n",
       "    <tr>\n",
       "      <th>3</th>\n",
       "      <td>Afghanistan</td>\n",
       "      <td>Asia</td>\n",
       "      <td>1967</td>\n",
       "      <td>34.020</td>\n",
       "      <td>11537966.0</td>\n",
       "      <td>836.197138</td>\n",
       "      <td>NaN</td>\n",
       "      <td>NaN</td>\n",
       "    </tr>\n",
       "    <tr>\n",
       "      <th>4</th>\n",
       "      <td>Afghanistan</td>\n",
       "      <td>Asia</td>\n",
       "      <td>1972</td>\n",
       "      <td>36.088</td>\n",
       "      <td>13079460.0</td>\n",
       "      <td>739.981106</td>\n",
       "      <td>NaN</td>\n",
       "      <td>NaN</td>\n",
       "    </tr>\n",
       "  </tbody>\n",
       "</table>\n",
       "</div>"
      ],
      "text/plain": [
       "       country continent  year  life_exp         pop  gdp_per_cap  \\\n",
       "0  Afghanistan      Asia  1952    28.801   8425333.0   779.445314   \n",
       "1  Afghanistan      Asia  1957    30.332   9240934.0   820.853030   \n",
       "2  Afghanistan      Asia  1962    31.997  10267083.0   853.100710   \n",
       "3  Afghanistan      Asia  1967    34.020  11537966.0   836.197138   \n",
       "4  Afghanistan      Asia  1972    36.088  13079460.0   739.981106   \n",
       "\n",
       "   infant_mortality  fertility  \n",
       "0               NaN        NaN  \n",
       "1               NaN        NaN  \n",
       "2               NaN        NaN  \n",
       "3               NaN        NaN  \n",
       "4               NaN        NaN  "
      ]
     },
     "execution_count": 3,
     "metadata": {},
     "output_type": "execute_result"
    }
   ],
   "source": [
    "gapminder = pd.read_csv(\"../data/gapminder.csv\")\n",
    "\n",
    "gapminder.head()"
   ]
  },
  {
   "cell_type": "markdown",
   "metadata": {},
   "source": [
    "Please feel free to explore the gapminder data before starting the course."
   ]
  },
  {
   "cell_type": "markdown",
   "metadata": {},
   "source": [
    "[return to menu](#menu)"
   ]
  },
  {
   "cell_type": "markdown",
   "metadata": {},
   "source": [
    "<hr style=\"width:100%;height:4px;border-width:0;color:gray;background-color:#003d59; opacity:1\"> "
   ]
  },
  {
   "cell_type": "markdown",
   "metadata": {},
   "source": [
    "<a id='processing'></a>\n",
    "# 3. Processing Data"
   ]
  },
  {
   "cell_type": "markdown",
   "metadata": {},
   "source": [
    "In this course we’ll be using Pandas to process our data.\n",
    "\n",
    "The code will be commented and follow PEP-8 guidelines.\n",
    "\n",
    "Specifics of how data has been processed will not be provided as these techniques are covered in the [“Introduction to Python”](https://learninghub.ons.gov.uk/course/view.php?id=536) course, which is a pre-requisite for this course.\n",
    "\n",
    "Any techniques that are not covered in the introduction course will be explained in full.\n",
    "\n",
    "Please ensure you’re comfortable with manipulating data before commencing this course.\n"
   ]
  },
  {
   "cell_type": "markdown",
   "metadata": {},
   "source": [
    "[return to menu](#menu)"
   ]
  },
  {
   "cell_type": "markdown",
   "metadata": {},
   "source": [
    "<hr style=\"width:100%;height:4px;border-width:0;color:gray;background-color:#003d59; opacity:1\"> "
   ]
  },
  {
   "cell_type": "markdown",
   "metadata": {},
   "source": [
    "<a id='guidelines'></a>\n",
    "# 4. Visualisation Guidelines\n",
    "\n",
    "In this course we will be following guidelines set out in the Data Visualisation courses run by the Data Visualisation team within ONS and the Good Practice team for GSS. \n",
    "\n",
    "Material used to create this course can be found here:\n",
    "\n",
    "[GSS Introduction to Data Visualisation]( https://gss.civilservice.gov.uk/training/introduction-to-data-visualisation/) - this course can be found on the Learning Hub, for access please email gss.capability@statistics.gov.uk.\n",
    "\n",
    "[Style.ons.gov.uk – Data Visualisation](https://style.ons.gov.uk/category/data-visualisation/)\n",
    "\n",
    "As previously mentioned, this course is not intended to replace traditional data visualisation processes that apply within organisations.\n",
    "\n",
    "Please check your organisations guidelines before using visualisations produced using this guide. \n"
   ]
  },
  {
   "cell_type": "markdown",
   "metadata": {},
   "source": [
    "[return to menu](#menu)"
   ]
  },
  {
   "cell_type": "markdown",
   "metadata": {},
   "source": [
    "<hr style=\"width:100%;height:4px;border-width:0;color:gray;background-color:#003d59; opacity:1\"> "
   ]
  },
  {
   "cell_type": "markdown",
   "metadata": {},
   "source": [
    "# End of Chapter\n",
    "\n",
    "You have completed Chapter 1 of the Data Visualisation Course. Please move on to Chapter 2.\n",
    "\n",
    "[return to menu](#menu)"
   ]
  }
 ],
 "metadata": {
  "kernelspec": {
   "display_name": "Python 3",
   "language": "python",
   "name": "python3"
  },
  "language_info": {
   "codemirror_mode": {
    "name": "ipython",
    "version": 3
   },
   "file_extension": ".py",
   "mimetype": "text/x-python",
   "name": "python",
   "nbconvert_exporter": "python",
   "pygments_lexer": "ipython3",
   "version": "3.6.1"
  }
 },
 "nbformat": 4,
 "nbformat_minor": 2
}
