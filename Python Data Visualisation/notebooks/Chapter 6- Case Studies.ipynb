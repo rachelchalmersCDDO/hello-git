{
 "cells": [
  {
   "cell_type": "markdown",
   "metadata": {},
   "source": [
    "<a id='menu'></a>\n",
    "<hr style=\"width:100%;height:4px;border-width:0;color:gray;background-color:#003d59; opacity:1.0\"> \n",
    "\n",
    " ![logos](../images/la_dsc_logo.jpg)\n",
    " \n",
    " <hr style=\"width:100%;height:4px;border-width:0;color:gray;background-color:#003d59; opacity:1.0\"> "
   ]
  },
  {
   "cell_type": "markdown",
   "metadata": {},
   "source": [
    "# Data Visualisation in Python\n",
    "\n",
    "## Chapter 6 – Case Studies\n",
    "### Hannah Hodge Waller\n",
    "<hr style=\"width:100%;height:4px;border-width:0;color:gray;background-color:#003d59; opacity:0.25\"> \n",
    "Follow along with the code by running cells as you encounter them\n",
    "<hr style=\"width:100%;height:4px;border-width:0;color:gray;background-color:#003d59; opacity:0.25\"> \n",
    "*Chapter Overview*\n",
    "1. [Packages and Data](#packages_data)\n",
    "2. [Case Study A](#case_study_a)\n",
    "3. [Case Study B](#case_study_b)\n",
    "4. [Case Study C](#case_study_c)\n",
    "5. [Case Study D](#case_study_d)"
   ]
  },
  {
   "cell_type": "markdown",
   "metadata": {},
   "source": [
    "For this section it’s important to note we’ll be trying to reproduce **where possible** the visualisations shown.\n",
    "Visualisations across government are made using a variety of techniques, not just R and Python. Some images are further enhanced through image editing tools.\n",
    "\n",
    "Because of this we won’t always be match perfectly the images shown; although we will try our best!\n",
    "\n",
    "There may be additional things you've not yet learned in the course! A lot of these extra bits are small bits that make the visualisations fully match the guidelines. We'll always comment our code, but it's a good oportunity to search and try and find your own soloutions. "
   ]
  },
  {
   "cell_type": "markdown",
   "metadata": {},
   "source": [
    "<hr style=\"width:100%;height:4px;border-width:0;color:gray;background-color:#003d59; opacity:1\"> "
   ]
  },
  {
   "cell_type": "markdown",
   "metadata": {},
   "source": [
    "<a id='packages_data'></a>\n",
    "# 1. Packages and Data"
   ]
  },
  {
   "cell_type": "markdown",
   "metadata": {},
   "source": [
    "Let’s start, as always by loading required packages and data.\n",
    "\n",
    "Packages that may be needed: \n",
    "\n",
    "* Numpy – Version 1.12.1\n",
    "* Pandas – Version 0.20.1 \n",
    "* Matplotlib – Version 2.0.2  (here as the `pyplot` module)\n",
    "* Seaborn - Version 0.7.1\n",
    "\n",
    "Always follow the standard convention for nicknames."
   ]
  },
  {
   "cell_type": "code",
   "execution_count": 1,
   "metadata": {
    "collapsed": true
   },
   "outputs": [],
   "source": [
    " # Load packages\n",
    "import pandas as pd\n",
    "import numpy as np\n",
    "import matplotlib\n",
    "import matplotlib.pyplot as plt\n",
    "from matplotlib import rcParams \n",
    "import seaborn as sns\n",
    "\n",
    "from matplotlib.patches import Patch  # Used for some tweaking in Case Study B\n",
    "from matplotlib.lines import Line2D   # Used for some tweaking in Case Study B\n",
    "\n",
    "from matplotlib.font_manager import FontProperties # Used for the table in Case Study D"
   ]
  },
  {
   "cell_type": "markdown",
   "metadata": {},
   "source": [
    "The Data has been prepared in advance so for each these case studies just the visualisation needs to be performed. \n",
    "Where possible links to the raw datasets are included to allow for practice cleaning data if desired. \n",
    "\n",
    " \n",
    "* Case Study A uses `fertility_rates.csv`\n",
    "* Case Study B uses `fraud_data.csv`\n",
    "* Case Study C uses `fires.csv`\n",
    "* Case Study D uses `fly_tipping.csv`"
   ]
  },
  {
   "cell_type": "code",
   "execution_count": 2,
   "metadata": {
    "collapsed": true
   },
   "outputs": [],
   "source": [
    "# Case Study A\n",
    "fertility = pd.read_csv(\"../data/fertility_rates.csv\")\n",
    "\n",
    "# Case Study B\n",
    "fraud = pd.read_csv(\"../data/fraud_data.csv\")\n",
    "\n",
    "# Case Study C\n",
    "fires = pd.read_csv(\"../data/fires.csv\")\n",
    "\n",
    "# Case Study D\n",
    "flytipping = pd.read_csv(\"../data/fly_tipping.csv\")"
   ]
  },
  {
   "cell_type": "markdown",
   "metadata": {},
   "source": [
    "The magic command:\n",
    "\n",
    "% matplotlib inline\n",
    "\n",
    "means any plot created will be automatically embedded below the code cell once the code has been executed."
   ]
  },
  {
   "cell_type": "code",
   "execution_count": 3,
   "metadata": {
    "collapsed": true
   },
   "outputs": [],
   "source": [
    "% matplotlib inline"
   ]
  },
  {
   "cell_type": "markdown",
   "metadata": {},
   "source": [
    "Some default values for plot elements as in previous chapters can be set:"
   ]
  },
  {
   "cell_type": "code",
   "execution_count": 4,
   "metadata": {
    "collapsed": true
   },
   "outputs": [],
   "source": [
    "sns.set_style(\"whitegrid\")\n",
    "\n",
    "# Set Default Fonts\n",
    "\n",
    "rcParams[\"font.family\"] = \"sans-serif\"\n",
    "rcParams[\"font.sans-serif\"] = [\"Arial\", \"Tahoma\"]\n",
    "\n",
    "# Set Default font sizes\n",
    "\n",
    "small_size = 12\n",
    "medium_size = 14\n",
    "bigger_size = 16\n",
    "\n",
    "# Change the font size for individual elements\n",
    "\n",
    "matplotlib.rc(\"font\", size=small_size)          # controls default text sizes\n",
    "matplotlib.rc(\"axes\", titlesize=small_size)     # fontsize of the axes title\n",
    "matplotlib.rc(\"axes\", labelsize=medium_size)    # fontsize of the x and y labels\n",
    "matplotlib.rc(\"xtick\", labelsize=small_size)    # fontsize of the tick labels\n",
    "matplotlib.rc(\"ytick\", labelsize=small_size)    # fontsize of the tick labels\n",
    "matplotlib.rc(\"legend\", fontsize=small_size)    # legend fontsize\n",
    "matplotlib.rc(\"axes\", titlesize=medium_size)    # title fontsize\n",
    "\n",
    "\n",
    "rcParams[\"figure.dpi\"]= 300 # Set the DPI for outputs to 300 for our tables"
   ]
  },
  {
   "cell_type": "markdown",
   "metadata": {},
   "source": [
    "<hr style=\"width:100%;height:4px;border-width:0;color:gray;background-color:#003d59; opacity:1\"> "
   ]
  },
  {
   "cell_type": "markdown",
   "metadata": {},
   "source": [
    "<a id='case_study_a'></a>\n",
    "# 2. Case Study A"
   ]
  },
  {
   "cell_type": "markdown",
   "metadata": {},
   "source": [
    "Replicate the graph below from the [Births in England and Wales: 2019](https://www.ons.gov.uk/peoplepopulationandcommunity/birthsdeathsandmarriages/livebirths/bulletins/birthsummarytablesenglandandwales/2019), publication, this is figure 2.\n",
    "\n",
    "![logos](../images/case_studies/case_study_a_fertility.png)\n",
    " \n",
    "Use the `fertility` dataset and replicate the graph following ONS/GSS guidelines.\n",
    "\n",
    "For the colours of the lines use the following hex codes:\n",
    "\n",
    "“Under 20” =“#206095”\n",
    "\n",
    "“20 to 24” = “#118c7b”\n",
    "\n",
    "“25 to 29” = “#003c57”\n",
    "\n",
    "“30 to 34” = “#a8bd3a”\n",
    "\n",
    "“35 to 39” = “#27a0cc”\n",
    "\n",
    "“40 and over” = “#b26c96”\n",
    "\n",
    "The ticks and \"Live Births...\" text are colour #6D6D6D"
   ]
  },
  {
   "cell_type": "code",
   "execution_count": null,
   "metadata": {
    "collapsed": true
   },
   "outputs": [],
   "source": [
    "# Exercise\n",
    "\n"
   ]
  },
  {
   "cell_type": "code",
   "execution_count": null,
   "metadata": {
    "collapsed": true
   },
   "outputs": [],
   "source": [
    "# Solution - These cells contain answers for the exercises.\n",
    "#Run once to reveal the code.\n",
    "#Run again to reveal the output. \n",
    "\n",
    "%load ../solutions/case_studies/case_study_a_fertility.py"
   ]
  },
  {
   "cell_type": "markdown",
   "metadata": {},
   "source": [
    "<hr style=\"width:100%;height:4px;border-width:0;color:gray;background-color:#003d59; opacity:1\"> "
   ]
  },
  {
   "cell_type": "markdown",
   "metadata": {},
   "source": [
    "<a id='case_study_b'></a>\n",
    "# 3. Case Study B"
   ]
  },
  {
   "cell_type": "markdown",
   "metadata": {},
   "source": [
    "Replicate the graph below from the [Crime in England and Wales: year ending March 2020](https://www.ons.gov.uk/peoplepopulationandcommunity/crimeandjustice/bulletins/crimeinenglandandwales/yearendingmarch2020), publication, this is figure 13.\n",
    "\n",
    "![logos](../images/case_studies/case_study_b_fraud.png)\n",
    "\n",
    "\n",
    "Use the fertility dataset and plot the graph following ONS/GSS guidelines.\n",
    "\n",
    "For the colours of the bars use the following hex codes:\n",
    "\n",
    "* \"Year ending March 2019\" = \"#206095\"\n",
    "                    \n",
    "* \"Year ending March 2020\" = \"#118c7b\""
   ]
  },
  {
   "cell_type": "code",
   "execution_count": null,
   "metadata": {
    "collapsed": true
   },
   "outputs": [],
   "source": [
    "# Exercise\n",
    "\n"
   ]
  },
  {
   "cell_type": "code",
   "execution_count": null,
   "metadata": {
    "collapsed": true
   },
   "outputs": [],
   "source": [
    "# Solution - These cells contain answers for the exercises.\n",
    "#Run once to reveal the code.\n",
    "#Run again to reveal the output. \n",
    "\n",
    "%load ../solutions/case_studies/case_study_b_fraud.py"
   ]
  },
  {
   "cell_type": "markdown",
   "metadata": {},
   "source": [
    "<hr style=\"width:100%;height:4px;border-width:0;color:gray;background-color:#003d59; opacity:1\"> "
   ]
  },
  {
   "cell_type": "markdown",
   "metadata": {},
   "source": [
    "<a id='case_study_c'></a>\n",
    "# 4. Case Study C"
   ]
  },
  {
   "cell_type": "markdown",
   "metadata": {},
   "source": [
    "Replicate the graph below from the [Detailed analysis of non-fire incidents\n",
    "attended by fire & rescue services,\n",
    "England, April 2018 to March 2019 (PDF)](https://assets.publishing.service.gov.uk/government/uploads/system/uploads/attachment_data/file/861452/detailed-analysis-non-fire-incidents-england-1819-hosb0320.pdf), publication, this is chart 1.\n",
    "\n",
    "![logos](../images/case_studies/case_study_c_fire.png)\n",
    " \n",
    "Use the `fertility` dataset and replicate the graph following GSS guidelines.\n",
    "\n",
    "For the colours of the lines use the following hex codes:\n",
    "\n",
    "\n",
    "* \"Fires\" = \"#8F23B3\"\n",
    "* “Fire False Alarms” = “#BC7BD1”\n",
    "* “Non-Fire Incidents” =“#E8D1EF”\n",
    "\n",
    "The title is also \"#8F23B3\" and other text is black.\n",
    "\n",
    "We've rounded the percentages to two decmimal places here - they appear to have been manually added to the image as two are rounded up and one rounded down.\n",
    "\n",
    "N.B If you download the raw data the numbers for 2018/19 is different to the visualisation. We have manually altered this in the dataset to match the visualisation."
   ]
  },
  {
   "cell_type": "code",
   "execution_count": null,
   "metadata": {
    "collapsed": true
   },
   "outputs": [],
   "source": [
    "# Exercise\n",
    "\n"
   ]
  },
  {
   "cell_type": "code",
   "execution_count": null,
   "metadata": {
    "collapsed": true
   },
   "outputs": [],
   "source": [
    "# Solution - These cells contain answers for the exercises.\n",
    "#Run once to reveal the code.\n",
    "#Run again to reveal the output. \n",
    "\n",
    "%load ../solutions/case_studies/case_study_c_fire.py"
   ]
  },
  {
   "cell_type": "markdown",
   "metadata": {},
   "source": [
    "<hr style=\"width:100%;height:4px;border-width:0;color:gray;background-color:#003d59; opacity:1\"> "
   ]
  },
  {
   "cell_type": "markdown",
   "metadata": {},
   "source": [
    "<a id='case_study_d'></a>\n",
    "# 5. Case Study D"
   ]
  },
  {
   "cell_type": "markdown",
   "metadata": {},
   "source": [
    "Replicate the graph below from the [Fly tipping incidents and actions taken national level data 2007/08 to 2018/19](https://www.gov.uk/government/statistical-data-sets/env24-fly-tipping-incidents-and-actions-taken-in-england), publication, this is table 3.1.\n",
    "\n",
    "![logos](../images/case_studies/case_study_d_flytipping.png)\n",
    " \n",
    "Use the `flytipping` dataset and replicate the table following GSS guidelines.\n",
    "\n",
    "Note - We have altered the data to create the \"other identified\" column, added in commas and rounded the data. The raw data to replicate this can be found at this link. [ENV24 - Fly tipping incidents and actions taken in England ](https://www.gov.uk/government/collections/waste-and-recycling-statistics)."
   ]
  },
  {
   "cell_type": "code",
   "execution_count": null,
   "metadata": {
    "collapsed": true
   },
   "outputs": [],
   "source": [
    "# Exercise\n",
    "\n"
   ]
  },
  {
   "cell_type": "markdown",
   "metadata": {},
   "source": [
    "There are two solution cells here.\n",
    "\n",
    "Both contain the same code – however the X and Y location values have been adjusted for certain elements. If boxes are not aligned for you; you may wish to further play around with the numbers to do so.\n",
    "\n",
    "If the first solution doesn’t look quite right, we recommend running the second one, and then experimenting to get the alignments working perfectly."
   ]
  },
  {
   "cell_type": "code",
   "execution_count": null,
   "metadata": {
    "collapsed": true
   },
   "outputs": [],
   "source": [
    "# Solution - These cells contain answers for the exercises.\n",
    "#Run once to reveal the code.\n",
    "#Run again to reveal the output. \n",
    "\n",
    "%load ../solutions/case_studies/case_study_d_flytipping.py"
   ]
  },
  {
   "cell_type": "code",
   "execution_count": null,
   "metadata": {
    "collapsed": true
   },
   "outputs": [],
   "source": [
    "# For Matplotlib Version 3.3.3\n",
    "# Solution - These cells contain answers for the exercises.\n",
    "#Run once to reveal the code.\n",
    "#Run again to reveal the output. \n",
    "\n",
    "%load ../solutions/case_studies/case_study_d_flytipping_MPL_333.py.py"
   ]
  },
  {
   "cell_type": "markdown",
   "metadata": {},
   "source": [
    "<hr style=\"width:100%;height:4px;border-width:0;color:gray;background-color:#003d59; opacity:1\"> "
   ]
  }
 ],
 "metadata": {
  "kernelspec": {
   "display_name": "Python 3",
   "language": "python",
   "name": "python3"
  },
  "language_info": {
   "codemirror_mode": {
    "name": "ipython",
    "version": 3
   },
   "file_extension": ".py",
   "mimetype": "text/x-python",
   "name": "python",
   "nbconvert_exporter": "python",
   "pygments_lexer": "ipython3",
   "version": "3.6.1"
  }
 },
 "nbformat": 4,
 "nbformat_minor": 2
}
